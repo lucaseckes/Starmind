{
 "cells": [
  {
   "cell_type": "code",
   "execution_count": 1,
   "id": "ba7007d1",
   "metadata": {},
   "outputs": [],
   "source": [
    "# Imports here\n",
    "import pandas as pd"
   ]
  },
  {
   "cell_type": "code",
   "execution_count": 2,
   "id": "2f0ac1e4",
   "metadata": {},
   "outputs": [],
   "source": [
    "def Levenshtein(a, b):\n",
    "    \"\"\"\n",
    "    Calculate the Levenshtein distance between two strings recursively\n",
    "    \"\"\"\n",
    "    if len(b)==0:\n",
    "        return len(a)\n",
    "    elif len(a)==0:\n",
    "        return len(b)\n",
    "    elif a[0]==b[0]:\n",
    "        return Levenshtein(a[1:], b[1:])\n",
    "    else:\n",
    "        return 1+min([Levenshtein(a[1:], b), Levenshtein(a, b[1:]), Levenshtein(a[1:], b[1:])])"
   ]
  },
  {
   "cell_type": "code",
   "execution_count": 3,
   "id": "1365c339",
   "metadata": {},
   "outputs": [
    {
     "name": "stdout",
     "output_type": "stream",
     "text": [
      "['Cuca', 'Lua', 'Luba', 'Lucas', 'Luce', 'Lucia', 'Lucy', 'Lula', 'Luma', 'Luna', 'Lupa', 'Yuca']\n"
     ]
    }
   ],
   "source": [
    "df = pd.read_csv(\"https://data.stadt-zuerich.ch/dataset/sid_stapo_hundenamen/download/20210103_hundenamen.csv\")\n",
    "df = df.drop_duplicates(subset=\"HUNDENAME\").dropna(subset=[\"HUNDENAME\"]) # Drop duplicates and NaN names\n",
    "df = df[(df[\"HUNDENAME\"].str.len()<=5) & (df[\"HUNDENAME\"].str.len()>=3)] # Filters words between 3 and 5 characters long\n",
    "                                                                         # Indeed, Lucas is 4 characters long\n",
    "df[\"LEVENSHTEIN\"] = df[\"HUNDENAME\"].apply(lambda x: Levenshtein(\"Luca\", x)) # Calculate the Levenshtein distance\n",
    "list_names = list(df[df[\"LEVENSHTEIN\"]==1][\"HUNDENAME\"]) # Filter names that have a Levenshtein distance of 1 to Luca\n",
    "print(list_names)"
   ]
  },
  {
   "cell_type": "code",
   "execution_count": null,
   "id": "942820d5",
   "metadata": {},
   "outputs": [],
   "source": []
  }
 ],
 "metadata": {
  "kernelspec": {
   "display_name": "Python 3",
   "language": "python",
   "name": "python3"
  },
  "language_info": {
   "codemirror_mode": {
    "name": "ipython",
    "version": 3
   },
   "file_extension": ".py",
   "mimetype": "text/x-python",
   "name": "python",
   "nbconvert_exporter": "python",
   "pygments_lexer": "ipython3",
   "version": "3.8.8"
  }
 },
 "nbformat": 4,
 "nbformat_minor": 5
}
